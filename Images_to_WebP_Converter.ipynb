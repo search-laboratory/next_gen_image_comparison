{
  "nbformat": 4,
  "nbformat_minor": 0,
  "metadata": {
    "colab": {
      "name": "Images to WebP Converter.ipynb",
      "provenance": [],
      "authorship_tag": "ABX9TyM0k0kVRJuHJtJ2h81WiMJi",
      "include_colab_link": true
    },
    "kernelspec": {
      "name": "python3",
      "display_name": "Python 3"
    }
  },
  "cells": [
    {
      "cell_type": "markdown",
      "metadata": {
        "id": "view-in-github",
        "colab_type": "text"
      },
      "source": [
        "<a href=\"https://colab.research.google.com/github/search-laboratory/pagespeedsite-standard/blob/master/Images_to_WebP_Converter.ipynb\" target=\"_parent\"><img src=\"https://colab.research.google.com/assets/colab-badge.svg\" alt=\"Open In Colab\"/></a>"
      ]
    },
    {
      "cell_type": "code",
      "metadata": {
        "id": "Os05krcOcIXI",
        "colab_type": "code",
        "colab": {}
      },
      "source": [
        "!pip install fitz\n",
        "!pip install PyMuPDF"
      ],
      "execution_count": 0,
      "outputs": []
    },
    {
      "cell_type": "code",
      "metadata": {
        "id": "ZkAm-zeLPkce",
        "colab_type": "code",
        "colab": {}
      },
      "source": [
        "from PIL import Image as img\n",
        "import PIL\n",
        "from google.colab import files\n",
        "import re\n",
        "import fitz\n",
        "from bs4 import BeautifulSoup as soup\n",
        "from urllib.request import urlopen\n",
        "import requests\n",
        "from zipfile import ZipFile\n",
        "from tqdm import tqdm\n",
        "import zipfile"
      ],
      "execution_count": 0,
      "outputs": []
    },
    {
      "cell_type": "code",
      "metadata": {
        "id": "sDSXAlxaRLkE",
        "colab_type": "code",
        "outputId": "56933be7-dc7f-4002-82cb-25888747b909",
        "colab": {
          "resources": {
            "http://localhost:8080/nbextensions/google.colab/files.js": {
              "data": "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",
              "ok": true,
              "headers": [
                [
                  "content-type",
                  "application/javascript"
                ]
              ],
              "status": 200,
              "status_text": ""
            }
          },
          "base_uri": "https://localhost:8080/",
          "height": 74
        }
      },
      "source": [
        "your_upload = files.upload()\n",
        "input_image = re.sub(\"{'\",\"\",str(your_upload).split(\":\")[0]).strip(\"'\")"
      ],
      "execution_count": 0,
      "outputs": [
        {
          "output_type": "display_data",
          "data": {
            "text/html": [
              "\n",
              "     <input type=\"file\" id=\"files-bdbe96f5-d171-4b7f-8c18-18b053b6f717\" name=\"files[]\" multiple disabled />\n",
              "     <output id=\"result-bdbe96f5-d171-4b7f-8c18-18b053b6f717\">\n",
              "      Upload widget is only available when the cell has been executed in the\n",
              "      current browser session. Please rerun this cell to enable.\n",
              "      </output>\n",
              "      <script src=\"/nbextensions/google.colab/files.js\"></script> "
            ],
            "text/plain": [
              "<IPython.core.display.HTML object>"
            ]
          },
          "metadata": {
            "tags": []
          }
        },
        {
          "output_type": "stream",
          "text": [
            "Saving herbert-goetsch-b03-vNXDzQg-unsplash.jpg to herbert-goetsch-b03-vNXDzQg-unsplash.jpg\n"
          ],
          "name": "stdout"
        }
      ]
    },
    {
      "cell_type": "code",
      "metadata": {
        "id": "U2xF4Me0P_yi",
        "colab_type": "code",
        "colab": {}
      },
      "source": [
        "# im = img.open(input_image).convert(\"RGB\")\n",
        "# im.save(f\"{str(input_image).split('.')[0]}.webp\",\"webp\")"
      ],
      "execution_count": 0,
      "outputs": []
    },
    {
      "cell_type": "code",
      "metadata": {
        "id": "zswgeY_yWOGh",
        "colab_type": "code",
        "colab": {}
      },
      "source": [
        "# im_jp2 = img.open(input_image).convert(\"RGB\")\n",
        "# im_jp2.save(f\"{str(input_image).split('.')[0]}.j2k\",\"JPEG2000\")"
      ],
      "execution_count": 0,
      "outputs": []
    },
    {
      "cell_type": "code",
      "metadata": {
        "id": "-Ao20Tugasyd",
        "colab_type": "code",
        "colab": {}
      },
      "source": [
        "# import fitz\n",
        "\n",
        "# pix = fitz.Pixmap(input_image)\n",
        "# pix.writeImage(f\"{str(input_image).split('.')[0]}.jxr\")"
      ],
      "execution_count": 0,
      "outputs": []
    },
    {
      "cell_type": "code",
      "metadata": {
        "id": "z_qLKvMqYr9X",
        "colab_type": "code",
        "colab": {}
      },
      "source": [
        "class next_gen_conv():\n",
        "\n",
        "  def __init__(self,input_image):\n",
        "    self.input_image = input_image\n",
        "\n",
        "  def conv_webp(self):\n",
        "    im = img.open(self.input_image).convert(\"RGB\")\n",
        "    im.save(f\"{str(self.input_image).split('.')[0]}.webp\",\"webp\")\n",
        "\n",
        "  def conv_j2k(self):\n",
        "    im = img.open(self.input_image).convert(\"RGB\")\n",
        "    im.save(f\"{str(self.input_image).split('.')[0]}.j2k\",\"JPEG2000\")\n",
        "\n",
        "  def conv_jxr(self):\n",
        "    pix = fitz.Pixmap(self.input_image)\n",
        "    pix.writeImage(f\"{str(self.input_image).split('.')[0]}.jxr\")\n",
        "\n",
        "  def create_zip(self):\n",
        "    zipobj = ZipFile(f\"{str(self.input_image).split('.')[0]}.zip\", 'w')\n",
        "    zipobj.write(f\"{str(self.input_image).split('.')[0]}.webp\")\n",
        "    zipobj.write(f\"{str(self.input_image).split('.')[0]}.j2k\")\n",
        "    zipobj.write(f\"{str(self.input_image).split('.')[0]}.jxr\")\n",
        "    zipobj.close()\n",
        "  \n",
        "  def download(self, yourfile):\n",
        "    if yourfile == \"zip\":\n",
        "      files.download(f\"{str(self.input_image).split('.')[0]}.zip\")\n",
        "    elif yourfile == \"webp\":\n",
        "      files.download(f\"{str(self.input_image).split('.')[0]}.webp\")\n",
        "    elif yourfile == \"jxr\":\n",
        "      files.download(f\"{str(self.input_image).split('.')[0]}.jxr\")\n",
        "    elif yourfile == \"j2k\":\n",
        "      files.download(f\"{str(self.input_image).split('.')[0]}.j2k\")\n",
        "    else:\n",
        "      raise ValueError(\"Invalid filetype requests: Only accepts certain inputs ('zip','jxr','j2k','webp')\")"
      ],
      "execution_count": 0,
      "outputs": []
    },
    {
      "cell_type": "code",
      "metadata": {
        "id": "p5Izi9Y0fvvr",
        "colab_type": "code",
        "colab": {}
      },
      "source": [
        "img_obj = next_gen_conv(input_image)"
      ],
      "execution_count": 0,
      "outputs": []
    },
    {
      "cell_type": "code",
      "metadata": {
        "id": "lUCgR0dZiGLz",
        "colab_type": "code",
        "colab": {}
      },
      "source": [
        "img_obj.conv_j2k()\n",
        "img_obj.conv_webp()\n",
        "img_obj.conv_jxr()"
      ],
      "execution_count": 0,
      "outputs": []
    },
    {
      "cell_type": "code",
      "metadata": {
        "id": "ZpoQLpkcjVKD",
        "colab_type": "code",
        "colab": {}
      },
      "source": [
        "# img_obj.create_zip()"
      ],
      "execution_count": 0,
      "outputs": []
    },
    {
      "cell_type": "code",
      "metadata": {
        "id": "NzCJv9WIidCB",
        "colab_type": "code",
        "colab": {}
      },
      "source": [
        "# img_obj.download(\"zip\")"
      ],
      "execution_count": 0,
      "outputs": []
    },
    {
      "cell_type": "code",
      "metadata": {
        "id": "IFSNMMz-c0IJ",
        "colab_type": "code",
        "outputId": "eb34271c-8d74-444f-8aab-3676aaa1fd2e",
        "colab": {
          "base_uri": "https://localhost:8080/",
          "height": 336
        }
      },
      "source": [
        "#web image puller\n",
        "\n",
        "headers = {\n",
        "    'User-Agent': 'Mozilla/5.0 (Windows NT 10.0; Win64; x64) AppleWebKit/537.36 (KHTML, like Gecko) Chrome/77.0.3865.90 Safari/537.36',\n",
        "}\n",
        "url = \"https://www.searchlaboratory.com/\"\n",
        "webpage = requests.get(url,headers=headers)\n",
        "html = webpage.text\n",
        "img_urls = soup(html, \"html.parser\").findAll('img')\n",
        "images = [i['src'] for i in img_urls]\n",
        "for i in images:\n",
        "  print(i)\n",
        "# for res in site_data.findAll('img'):\n",
        "#   print(res.get('src'))\n",
        "#   list_var = url.split('/')\n",
        "#   resource = urlopen(list_var[0]+\"//\"+list_var[2]+res.get('src'))\n",
        "#   output = open(res.get('src').split('/')[-1],\"wb\")\n",
        "#   output.write(resource.read())\n",
        "#   output.close()"
      ],
      "execution_count": 10,
      "outputs": [
        {
          "output_type": "stream",
          "text": [
            "https://secure.leadforensics.com/2007.png\n",
            "https://www.searchlaboratory.com/wp-content/themes/searchlabs/dist/img/logo.png\n",
            "https://www.searchlaboratory.com/wp-content/themes/searchlabs/dist/img/arrow-down-icon.png\n",
            "https://www.searchlaboratory.com/wp-content/uploads/2018/03/Integrated-meeting-1-1024x683-1024x683.jpg\n",
            "https://www.searchlaboratory.com/wp-content/themes/searchlabs/dist/img/arrow-right-icon.png\n",
            "https://www.searchlaboratory.com/wp-content/uploads/2018/03/International-work-1024x683-1024x683.jpg\n",
            "https://www.searchlaboratory.com/wp-content/themes/searchlabs/dist/img/arrow-right-icon.png\n",
            "https://www.searchlaboratory.com/wp-content/uploads/2018/03/CRO-3-1024x683-1-1024x683.jpg\n",
            "https://www.searchlaboratory.com/wp-content/themes/searchlabs/dist/img/arrow-right-icon.png\n",
            "//www.searchlaboratory.com/wp-content/plugins/a3-lazy-load/assets/images/lazy_placeholder.gif\n",
            "https://www.searchlaboratory.com/wp-content/uploads/2020/01/Mars-case-study-blog.jpg\n",
            "https://www.searchlaboratory.com/wp-content/themes/searchlabs/dist/img/case-studies-icon.png\n",
            "//www.searchlaboratory.com/wp-content/plugins/a3-lazy-load/assets/images/lazy_placeholder.gif\n",
            "https://www.searchlaboratory.com/wp-content/uploads/2019/09/GoT-dragon-blog.jpg\n",
            "https://www.searchlaboratory.com/wp-content/themes/searchlabs/dist/img/case-studies-icon.png\n",
            "//www.searchlaboratory.com/wp-content/plugins/a3-lazy-load/assets/images/lazy_placeholder.gif\n",
            "https://www.searchlaboratory.com/wp-content/uploads/2019/02/Burton-Snowboard-1.jpg\n",
            "https://www.searchlaboratory.com/wp-content/themes/searchlabs/dist/img/case-studies-icon.png\n"
          ],
          "name": "stdout"
        }
      ]
    },
    {
      "cell_type": "code",
      "metadata": {
        "id": "PJMvKjh_ctPE",
        "colab_type": "code",
        "colab": {
          "base_uri": "https://localhost:8080/",
          "height": 34
        },
        "outputId": "ba4a07e0-0a93-430a-8e3c-5c83bdcb01de"
      },
      "source": [
        ""
      ],
      "execution_count": 19,
      "outputs": [
        {
          "output_type": "stream",
          "text": [
            "Integrated-meeting-1-1024x683-1024x683\n"
          ],
          "name": "stdout"
        }
      ]
    },
    {
      "cell_type": "code",
      "metadata": {
        "id": "jWCXjzNWbiX4",
        "colab_type": "code",
        "colab": {}
      },
      "source": [
        "#download image\n",
        "def download_img(your_image):\n",
        "  img_data = requests.get(your_image).content\n",
        "  file_name = str(your_image).split('/')[-1].split('.')[0]\n",
        "  with open(f\"{file_name}.jpg\", 'wb') as handler:\n",
        "      handler.write(img_data)\n",
        "  return f\"{file_name}.jpg\""
      ],
      "execution_count": 0,
      "outputs": []
    },
    {
      "cell_type": "code",
      "metadata": {
        "id": "AIL4F6lzlJbG",
        "colab_type": "code",
        "colab": {}
      },
      "source": [
        "target_url = \"https://www.searchlaboratory.com/\""
      ],
      "execution_count": 0,
      "outputs": []
    },
    {
      "cell_type": "code",
      "metadata": {
        "id": "u_bVUR2MeeMy",
        "colab_type": "code",
        "colab": {}
      },
      "source": [
        "def zip_images(target_url):\n",
        "      #create zip object\n",
        "      print(\"Creating zip\")\n",
        "      zipobj = ZipFile(f\"{str(target_url).split('.')[1]} Images.zip\", 'w')\n",
        "      print(\"Done\\n\")\n",
        "      \n",
        "      #getting image urls\n",
        "      print(\"Aquiring img URLs\")\n",
        "      headers = {\n",
        "      'User-Agent': 'Mozilla/5.0 (Windows NT 10.0; Win64; x64) AppleWebKit/537.36 (KHTML, like Gecko) Chrome/77.0.3865.90 Safari/537.36',\n",
        "      }\n",
        "      webpage = requests.get(target_url,headers=headers)\n",
        "      html = webpage.text\n",
        "      img_urls = soup(html, \"html.parser\").findAll('img')\n",
        "      images = [i['src'] for i in img_urls]\n",
        "      images =  [ i if \"http\" in i else f\"https://www.{i.split('www.')[1]}\" for i in images]\n",
        "      for i in images:\n",
        "        print(i)\n",
        "      print(\"Done\\n\")\n",
        "\n",
        "      print(\"Downloading Images\")\n",
        "      #download images\n",
        "      images_downloaded = []\n",
        "      print(\"Downloading images...\")\n",
        "      for i in tqdm(images):\n",
        "        images_downloaded.append(download_img(i))\n",
        "      print(\"Done\\n\")\n",
        "\n",
        "      #Adding images to zip\n",
        "      print(\"Adding imgs to zip\")\n",
        "      for i in images_downloaded:\n",
        "        zipobj.write(i)\n",
        "      zipobj.close()\n",
        "      print(\"Done... Zip ready for download\")\n",
        "\n",
        "zip_images(target_url)"
      ],
      "execution_count": 0,
      "outputs": []
    },
    {
      "cell_type": "code",
      "metadata": {
        "id": "ypE03qqHk6ET",
        "colab_type": "code",
        "colab": {
          "base_uri": "https://localhost:8080/",
          "height": 354
        },
        "outputId": "19f65142-80cd-4895-85ed-3c17e3a55aa6"
      },
      "source": [
        "#open zip and convert files\n",
        "import zipfile\n",
        "file = zipfile.ZipFile(f\"{str(target_url).split('.')[1]} Images.zip\", \"r\")\n",
        "print(file.namelist)\n",
        "for name in file.namelist():\n",
        "    data = file.read(name)\n",
        "    print(name)\n",
        "    # print (name, len(data), repr(data[:3]))\n",
        "\n",
        "# Create a ZipFile Object and load sample.zip in it\n",
        "with ZipFile(f\"{str(target_url).split('.')[1]} Images.zip\", 'r')  as zipObj:\n",
        "   # Extract all the contents of zip file in current directory\n",
        "   zipObj.extractall()"
      ],
      "execution_count": 56,
      "outputs": [
        {
          "output_type": "stream",
          "text": [
            "<bound method ZipFile.namelist of <zipfile.ZipFile filename='searchlaboratory Images.zip' mode='r'>>\n",
            "2007.jpg\n",
            "logo.jpg\n",
            "arrow-down-icon.jpg\n",
            "Integrated-meeting-1-1024x683-1024x683.jpg\n",
            "arrow-right-icon.jpg\n",
            "International-work-1024x683-1024x683.jpg\n",
            "arrow-right-icon.jpg\n",
            "CRO-3-1024x683-1-1024x683.jpg\n",
            "arrow-right-icon.jpg\n",
            "lazy_placeholder.jpg\n",
            "Mars-case-study-blog.jpg\n",
            "case-studies-icon.jpg\n",
            "lazy_placeholder.jpg\n",
            "GoT-dragon-blog.jpg\n",
            "case-studies-icon.jpg\n",
            "lazy_placeholder.jpg\n",
            "Burton-Snowboard-1.jpg\n",
            "case-studies-icon.jpg\n"
          ],
          "name": "stdout"
        }
      ]
    },
    {
      "cell_type": "code",
      "metadata": {
        "id": "4Kx0Ysv8nOXs",
        "colab_type": "code",
        "colab": {}
      },
      "source": [
        "files.download(\"2007.jpg\")"
      ],
      "execution_count": 0,
      "outputs": []
    },
    {
      "cell_type": "code",
      "metadata": {
        "id": "AMIxo0meRyrp",
        "colab_type": "code",
        "colab": {}
      },
      "source": [
        "# files.download(f\"{str(input_image).split('.')[0]}.jxr\")"
      ],
      "execution_count": 0,
      "outputs": []
    }
  ]
}